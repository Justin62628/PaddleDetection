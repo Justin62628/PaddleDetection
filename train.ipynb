{
 "cells": [
  {
   "attachments": {},
   "cell_type": "markdown",
   "metadata": {},
   "source": [
    "# Modeling"
   ]
  },
  {
   "cell_type": "code",
   "execution_count": 1,
   "outputs": [
    {
     "name": "stdout",
     "output_type": "stream",
     "text": [
      "Warning: Unable to use numba in PP-Tracking, please install numba, for example(python3.7): `pip install numba==0.56.4`\n",
      "Warning: Unable to use numba in PP-Tracking, please install numba, for example(python3.7): `pip install numba==0.56.4`\n"
     ]
    }
   ],
   "source": [
    "import ppdet\n",
    "# ppdet.model_zoo.list_model(['picodet'])\n",
    "# ppdet.model_zoo.list_model(['ssd'])\n"
   ],
   "metadata": {
    "collapsed": false
   }
  },
  {
   "cell_type": "code",
   "execution_count": 20,
   "outputs": [],
   "source": [
    "model = ppdet.model_zoo.get_model('picodet\\picodet_s_320_coco_lcnet', pretrained=False)\n"
   ],
   "metadata": {
    "collapsed": false
   }
  },
  {
   "cell_type": "code",
   "execution_count": 24,
   "outputs": [],
   "source": [
    "model_ssd = ppdet.model_zoo.get_model('ssd\\ssd_mobilenet_v1_300_120e_voc', pretrained=False)"
   ],
   "metadata": {
    "collapsed": false
   }
  },
  {
   "cell_type": "code",
   "execution_count": 2,
   "outputs": [],
   "source": [
    "model_custom = ppdet.model_zoo.get_model('picodet\\picodet_s_300_custom', pretrained=False)"
   ],
   "metadata": {
    "collapsed": false
   }
  },
  {
   "cell_type": "markdown",
   "source": [
    "# Below for QAT(ACT)"
   ],
   "metadata": {
    "collapsed": false
   }
  },
  {
   "attachments": {},
   "cell_type": "markdown",
   "metadata": {},
   "source": []
  },
  {
   "cell_type": "code",
   "execution_count": 13,
   "metadata": {},
   "outputs": [
    {
     "name": "stdout",
     "output_type": "stream",
     "text": [
      "[04/06 18:10:23] ppdet.utils.checkpoint INFO: Finish loading model weights: output/picodet_s_300_custom/best_model.pdparams\n",
      "[04/06 18:10:23] ppdet.engine INFO: Export inference config file to output_inference\\picodet_s_300_custom\\infer_cfg.yml\n",
      "[04/06 18:10:26] ppdet.engine INFO: Export model and saved in output_inference\\picodet_s_300_custom\n"
     ]
    }
   ],
   "source": [
    "# export\n",
    "config_yml = r\"configs\\ssd\\ssdlite_mobilenet_v3_small_custom.yml\"\n",
    "config_yml = r\"configs\\ssd\\ssd_mobilenet_v1_custom.yml\"\n",
    "config_yml = r\"configs/picodet/picodet_s_300_custom.yml\"\n",
    "weight_path = r\"..\\ssdlite_models\\before_convert\\best_model.pdparams\"\n",
    "weight_path = r\"..\\ssd_models\\before_convert\\best_model.pdparams\"\n",
    "weight_path = r\"output/picodet_s_300_custom/best_model.pdparams\"\n",
    "!python tools/export_model.py -c $config_yml -o weights=$weight_path"
   ]
  },
  {
   "cell_type": "code",
   "execution_count": null,
   "metadata": {},
   "outputs": [],
   "source": [
    "act_yml = \"ssdlite_qat.yml\"\n",
    "!python deploy/auto_compression/run.py --config_path=$act_yml --save_dir='./output/ssd_lite_qat_distilled'  "
   ]
  },
  {
   "cell_type": "code",
   "execution_count": null,
   "metadata": {},
   "outputs": [],
   "source": []
  },
  {
   "cell_type": "markdown",
   "source": [
    "# Test"
   ],
   "metadata": {
    "collapsed": false
   }
  },
  {
   "cell_type": "code",
   "execution_count": 4,
   "outputs": [],
   "source": [
    "import numpy as np\n",
    "picodet_weight = np.fromfile(r\"F:\\CICC\\env\\PaddleDetection\\output\\picodet_s_288_custom_trained_input-fp32\\model_final.pdparams\")\n",
    "ssd_weight = np.fromfile(r\"F:\\CICC\\env\\ssd_models\\after_convert\\ssd_mobilenet_v1_custom\\model.pdiparams\")"
   ],
   "metadata": {
    "collapsed": false
   }
  },
  {
   "cell_type": "code",
   "execution_count": 11,
   "outputs": [],
   "source": [
    "import paddle\n",
    "paddle.enable_static()\n",
    "exe = paddle.static.Executor(paddle.CPUPlace())\n",
    "[inference_program, feed_target_names, fetch_targets] = (paddle.static.load_inference_model(r\"F:\\CICC\\env\\picodet_models\\after_convert\\picodet_s_300_custom_fp-norm\\model\", exe))"
   ],
   "metadata": {
    "collapsed": false
   }
  },
  {
   "cell_type": "markdown",
   "source": [
    "# View Sensitivity Data\n"
   ],
   "metadata": {
    "collapsed": false
   }
  },
  {
   "cell_type": "code",
   "execution_count": 3,
   "outputs": [
    {
     "name": "stdout",
     "output_type": "stream",
     "text": [
      "{'conv2d_0.w_0': {0.1: 0.0, 0.2: 0.0, 0.3: 0.003500627556567802, 0.4: 0.2971673592612734, 0.5: 0.4334470306447954, 0.6: 0.7746163277826341, 0.7: 0.7351857343574354, 0.8: 0.8203384240375886, 0.9: 0.9615516054076922}, 'conv2d_2.w_0': {0.1: -0.002567325424914282, 0.2: 0.046226160468661834, 0.3: 0.08960231133679743, 0.4: 0.49531454727381696, 0.5: 0.543520782846043, 0.6: 0.5679049127193854, 0.7: 0.7003999336647315, 0.8: 0.7514330167185593, 0.9: 0.9975155297761068}, 'conv2d_4.w_0': {0.1: 0.14887707306975625, 0.2: 0.19924686159814645, 0.3: 0.48529603873071336, 0.4: 0.3223545910088867, 0.5: 0.6017425979255845, 0.6: 0.9589102673054066, 0.7: 1.0, 0.8: 0.9996273294664161, 0.9: 0.9997133303587815}, 'conv2d_6.w_0': {0.1: 0.06985842334798163, 0.2: 0.3028273536066298, 0.3: 0.5245441039404551, 0.4: 0.6781175334581678, 0.5: 0.8416711851033856, 0.6: 0.9543578695814701, 0.7: 0.9899539578616249, 0.8: 0.9979975291711318, 0.9: 0.9941705179932009}, 'conv2d_8.w_0': {0.1: 0.07695905933476488, 0.2: 0.14953625049678976, 0.3: 0.25317643221306957, 0.4: 0.6434819772037138, 0.5: 0.9362371176605805, 0.6: 0.9990949654393043, 0.7: 0.9999019753089081, 0.8: 0.9940940890124651, 0.9: 0.9979634500010278}, 'conv2d_10.w_0': {0.1: 0.0847213695635605, 0.2: 0.13449704678434926, 0.3: 0.3537450820139286, 0.4: 0.4191432838462928, 0.5: 0.9355725707036717, 0.6: 0.9732151262034834, 0.7: 0.9777489262011395, 0.8: 0.991259221557759, 0.9: 0.9980498289943267}, 'conv2d_12.w_0': {0.1: 0.01811525591364807, 0.2: 0.10760727453002131, 0.3: 0.33560152135396704, 0.4: 0.535438240134193, 0.5: 0.7916887530584722, 0.6: 0.9596863527766237, 0.7: 0.9633410655436557, 0.8: 0.9962851856927707, 0.9: 0.995696094996799}, 'conv2d_14.w_0': {0.1: 0.2815341363196451, 0.2: 0.592579213875272, 0.3: 0.6384430792088551, 0.4: 0.906227282535763, 0.5: 0.9081227583011858, 0.6: 0.968258115121071, 0.7: 0.9910632052416987, 0.8: 0.9902016356781345, 0.9: 0.9907298204770986}, 'conv2d_16.w_0': {0.1: 0.1808979711909602, 0.2: 0.6074192312681971, 0.3: 0.8531134115412939, 0.4: 0.8905886629966036, 0.5: 0.995288663411451, 0.6: 0.993875224278133, 0.7: 0.9993492461347435, 0.8: 0.9996656520910291, 0.9: 0.9988315500726125}, 'conv2d_18.w_0': {0.1: 0.2928990496220965, 0.2: 0.7131196532069657, 0.3: 0.962186755709903, 0.4: 0.9822790542789459, 0.5: 0.999502891150604, 0.6: 0.9794715296315244, 0.7: 0.9985713319237881, 0.8: 0.9865214413332299, 0.9: 0.9999839859193671}, 'conv2d_20.w_0': {0.1: 0.5150014377792329, 0.2: 0.9415868701777304, 0.3: 0.9807910307481894, 0.4: 0.9210055316243965, 0.5: 0.9985774223775881, 0.6: 0.998265003907178, 0.7: 0.9999468697813628, 0.8: 1.0, 0.9: 0.9999887045086162}, 'conv2d_22.w_0': {0.1: 0.0, 0.2: 0.0, 0.3: 0.0, 0.4: 0.0, 0.5: 0.0, 0.6: 0.0, 0.7: 0.0, 0.8: 0.0, 0.9: 0.0}, 'conv2d_24.w_0': {0.1: 0.017005113558781114, 0.2: 0.08221771216073819, 0.3: 0.15091530542513634, 0.4: 0.25840588493724886, 0.5: 0.26014226051368905, 0.6: 0.2727828062338541, 0.7: 0.33584802394994023, 0.8: 0.2818519467962265, 0.9: 0.31596209597025676}, 'conv2d_26.w_0': {0.1: 0.0, 0.2: 0.0, 0.3: 0.0, 0.4: 0.0, 0.5: 0.0, 0.6: 0.0, 0.7: 0.0, 0.8: 0.0, 0.9: 0.0}, 'conv2d_27.w_0': {0.1: 0.002098664629618568, 0.2: 0.01716032942840324, 0.3: 0.04616104988947304, 0.4: 0.07564477084930726, 0.5: 0.07547780376436812, 0.6: 0.0733562752165952, 0.7: 0.09592355504909973, 0.8: 0.10870075919093161, 0.9: 0.12126240468245715}, 'conv2d_28.w_0': {0.1: 0.0, 0.2: 0.0, 0.3: 0.0, 0.4: 0.0, 0.5: 0.0, 0.6: 0.0, 0.7: 0.0, 0.8: 0.0, 0.9: 0.0}, 'conv2d_29.w_0': {0.1: 0.0, 0.2: 8.385087005640976e-05, 0.3: 0.0, 0.4: 0.00016675427265448663, 0.5: 0.0, 0.6: 0.0, 0.7: 0.0, 0.8: 0.0, 0.9: 0.0}, 'conv2d_30.w_0': {0.1: 0.0, 0.2: 0.0, 0.3: 0.0, 0.4: 0.0, 0.5: 0.0, 0.6: 0.0, 0.7: 0.0, 0.8: 0.0, 0.9: 0.0}, 'conv2d_31.w_0': {0.1: 0.0, 0.2: 0.0, 0.3: 0.0, 0.4: 0.0, 0.5: 0.0, 0.6: 0.0, 0.7: 0.0, 0.8: 0.0, 0.9: 0.01897031508370458}, 'conv2d_32.w_0': {0.1: 0.0, 0.2: 0.0, 0.3: 0.0, 0.4: 0.0, 0.5: 0.0, 0.6: 0.0, 0.7: 0.0, 0.8: 0.0, 0.9: 0.0}, 'conv2d_33.w_0': {0.1: 0.0, 0.2: 0.0012654785963697032, 0.3: 0.016177920913085977, 0.4: 0.029234414351723633, 0.5: 0.059837487319523756, 0.6: 0.059731154694452164, 0.7: 0.04194616563007134, 0.8: 0.03942162330579279, 0.9: 0.059837487319523756}, 'conv2d_34.w_0': {0.1: 0.0, 0.2: 0.0, 0.3: 0.0, 0.4: 0.0, 0.5: 0.0, 0.6: 0.0, 0.7: 0.0, 0.8: 0.0, 0.9: 0.0}, 'conv2d_35.w_0': {0.1: 0.0, 0.2: 0.0, 0.3: 0.0, 0.4: 0.0, 0.5: 0.0, 0.6: 0.0, 0.7: 0.0, 0.8: 0.0, 0.9: 0.0}, 'conv2d_36.w_0': {0.1: 0.0, 0.2: 0.0, 0.3: 0.0, 0.4: 0.0, 0.5: 0.0, 0.6: 0.0, 0.7: 0.0, 0.8: 0.0, 0.9: 0.0}, 'conv2d_37.w_0': {0.1: 0.0, 0.2: 0.0, 0.3: 0.0, 0.4: 0.0, 0.5: 0.0, 0.6: 0.0, 0.7: 0.0, 0.8: 0.0, 0.9: 0.0}, 'conv2d_38.w_0': {0.1: 0.0, 0.2: 0.0, 0.3: 0.0, 0.4: 0.0, 0.5: 0.0, 0.6: 0.0, 0.7: 0.0, 0.8: 0.0, 0.9: 0.0}, 'conv2d_39.w_0': {0.1: 0.0, 0.2: 0.0, 0.3: 0.0, 0.4: 0.0, 0.5: 0.0, 0.6: 0.0, 0.7: 0.0, 0.8: 0.0, 0.9: 0.0}, 'conv2d_40.w_0': {0.1: 0.0, 0.2: 0.0, 0.3: 0.0, 0.4: 0.0, 0.5: 0.0, 0.6: 0.0, 0.7: 0.0, 0.8: 0.0, 0.9: 0.0}, 'conv2d_41.w_0': {0.1: 0.0, 0.2: 0.0, 0.3: 0.0, 0.4: 0.0, 0.5: 0.0, 0.6: 0.0, 0.7: 0.0, 0.8: 0.0, 0.9: 0.0}, 'conv2d_42.w_0': {0.1: 0.0, 0.2: 0.0, 0.3: 0.0, 0.4: 0.0, 0.5: 0.0, 0.6: 0.0, 0.7: 0.0, 0.8: 0.0, 0.9: 0.0}, 'conv2d_43.w_0': {0.1: 0.0, 0.2: 0.0, 0.3: 0.0, 0.4: 0.0, 0.5: 0.0, 0.6: 0.0, 0.7: 0.0, 0.8: 0.0, 0.9: 0.0}, 'conv2d_44.w_0': {0.1: 0.0, 0.2: 0.0, 0.3: 0.0, 0.4: 0.0, 0.5: 0.0, 0.6: 0.0, 0.7: 0.0, 0.8: 0.0, 0.9: 0.0}, 'conv2d_45.w_0': {0.1: 0.0, 0.2: 0.0, 0.3: 0.0, 0.4: 0.0, 0.5: 0.0, 0.6: 0.0, 0.7: 0.0, 0.8: 0.0, 0.9: 0.0}, 'conv2d_46.w_0': {0.1: 0.0, 0.2: 0.0, 0.3: 0.0, 0.4: 0.0, 0.5: 0.0, 0.6: 0.0, 0.7: 0.0, 0.8: 0.0, 0.9: 0.0}}\n"
     ]
    }
   ],
   "source": [
    "import pickle\n",
    "# data = pickle.load(open(\"sensitivity_0.data\", \"rb\"))\n",
    "data = pickle.load(open(\"ssd_sensitivity.pkl\", \"rb\"))\n",
    "print(data)"
   ],
   "metadata": {
    "collapsed": false
   }
  },
  {
   "cell_type": "code",
   "execution_count": 6,
   "outputs": [],
   "source": [
    "from paddleslim.prune import get_ratios_by_loss\n",
    "\n",
    "pruned_ratio = get_ratios_by_loss(data, 0.2)\n",
    "ratio = list(pruned_ratio.values())"
   ],
   "metadata": {
    "collapsed": false
   }
  }
 ],
 "metadata": {
  "kernelspec": {
   "display_name": "venv",
   "language": "python",
   "name": "python3"
  },
  "language_info": {
   "codemirror_mode": {
    "name": "ipython",
    "version": 3
   },
   "file_extension": ".py",
   "mimetype": "text/x-python",
   "name": "python",
   "nbconvert_exporter": "python",
   "pygments_lexer": "ipython3",
   "version": "3.9.13"
  },
  "orig_nbformat": 4
 },
 "nbformat": 4,
 "nbformat_minor": 2
}
