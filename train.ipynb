{
 "cells": [
  {
   "attachments": {},
   "cell_type": "markdown",
   "metadata": {},
   "source": [
    "# This Script is for QAT(ACT)"
   ]
  },
  {
   "attachments": {},
   "cell_type": "markdown",
   "metadata": {},
   "source": [
    "## SSD"
   ]
  },
  {
   "cell_type": "code",
   "execution_count": 1,
   "metadata": {},
   "outputs": [
    {
     "name": "stdout",
     "output_type": "stream",
     "text": [
      "Warning: Unable to use numba in PP-Tracking, please install numba, for example(python3.7): `pip install numba==0.56.4`\n",
      "Warning: Unable to use numba in PP-Tracking, please install numba, for example(python3.7): `pip install numba==0.56.4`\n",
      "[04/04 17:48:42] ppdet.utils.checkpoint INFO: Finish loading model weights: ..\\ssd_models\\before_convert\\best_model.pdparams\n",
      "[04/04 17:48:42] ppdet.engine INFO: Export inference config file to output_inference\\ssd_mobilenet_v1_custom\\infer_cfg.yml\n",
      "[04/04 17:48:45] ppdet.engine INFO: Export model and saved in output_inference\\ssd_mobilenet_v1_custom\n"
     ]
    }
   ],
   "source": [
    "# export\n",
    "config_yml = r\"configs\\ssd\\ssdlite_mobilenet_v3_small_custom.yml\"\n",
    "config_yml = r\"configs\\ssd\\ssd_mobilenet_v1_custom.yml\"\n",
    "weight_path = r\"..\\ssdlite_models\\before_convert\\best_model.pdparams\"\n",
    "weight_path = r\"..\\ssd_models\\before_convert\\best_model.pdparams\"\n",
    "!python tools/export_model.py -c $config_yml -o weights=$weight_path"
   ]
  },
  {
   "cell_type": "code",
   "execution_count": null,
   "metadata": {},
   "outputs": [],
   "source": [
    "act_yml = \"ssdlite_qat.yml\"\n",
    "!python deploy/auto_compression/run.py --config_path=$act_yml --save_dir='./output/ssd_lite_qat_distilled'  "
   ]
  },
  {
   "cell_type": "code",
   "execution_count": null,
   "metadata": {},
   "outputs": [],
   "source": []
  }
 ],
 "metadata": {
  "kernelspec": {
   "display_name": "venv",
   "language": "python",
   "name": "python3"
  },
  "language_info": {
   "codemirror_mode": {
    "name": "ipython",
    "version": 3
   },
   "file_extension": ".py",
   "mimetype": "text/x-python",
   "name": "python",
   "nbconvert_exporter": "python",
   "pygments_lexer": "ipython3",
   "version": "3.9.13"
  },
  "orig_nbformat": 4
 },
 "nbformat": 4,
 "nbformat_minor": 2
}
