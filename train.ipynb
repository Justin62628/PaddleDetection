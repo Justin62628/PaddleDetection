{
 "cells": [
  {
   "attachments": {},
   "cell_type": "markdown",
   "metadata": {},
   "source": [
    "# Modeling"
   ]
  },
  {
   "cell_type": "code",
   "execution_count": 1,
   "outputs": [
    {
     "name": "stdout",
     "output_type": "stream",
     "text": [
      "Warning: Unable to use numba in PP-Tracking, please install numba, for example(python3.7): `pip install numba==0.56.4`\n",
      "Warning: Unable to use numba in PP-Tracking, please install numba, for example(python3.7): `pip install numba==0.56.4`\n"
     ]
    }
   ],
   "source": [
    "import ppdet\n",
    "# ppdet.model_zoo.list_model(['picodet'])\n",
    "# ppdet.model_zoo.list_model(['ssd'])\n"
   ],
   "metadata": {
    "collapsed": false
   }
  },
  {
   "cell_type": "code",
   "execution_count": 20,
   "outputs": [],
   "source": [
    "model = ppdet.model_zoo.get_model('picodet\\picodet_s_320_coco_lcnet', pretrained=False)\n"
   ],
   "metadata": {
    "collapsed": false
   }
  },
  {
   "cell_type": "code",
   "execution_count": 24,
   "outputs": [],
   "source": [
    "model_ssd = ppdet.model_zoo.get_model('ssd\\ssd_mobilenet_v1_300_120e_voc', pretrained=False)"
   ],
   "metadata": {
    "collapsed": false
   }
  },
  {
   "cell_type": "code",
   "execution_count": 2,
   "outputs": [],
   "source": [
    "model_custom = ppdet.model_zoo.get_model('picodet\\picodet_s_300_custom', pretrained=False)"
   ],
   "metadata": {
    "collapsed": false
   }
  },
  {
   "cell_type": "markdown",
   "source": [
    "# Below for QAT(ACT)"
   ],
   "metadata": {
    "collapsed": false
   }
  },
  {
   "attachments": {},
   "cell_type": "markdown",
   "metadata": {},
   "source": []
  },
  {
   "cell_type": "code",
   "execution_count": 13,
   "metadata": {},
   "outputs": [
    {
     "name": "stdout",
     "output_type": "stream",
     "text": [
      "[04/06 18:10:23] ppdet.utils.checkpoint INFO: Finish loading model weights: output/picodet_s_300_custom/best_model.pdparams\n",
      "[04/06 18:10:23] ppdet.engine INFO: Export inference config file to output_inference\\picodet_s_300_custom\\infer_cfg.yml\n",
      "[04/06 18:10:26] ppdet.engine INFO: Export model and saved in output_inference\\picodet_s_300_custom\n"
     ]
    }
   ],
   "source": [
    "# export\n",
    "config_yml = r\"configs\\ssd\\ssdlite_mobilenet_v3_small_custom.yml\"\n",
    "config_yml = r\"configs\\ssd\\ssd_mobilenet_v1_custom.yml\"\n",
    "config_yml = r\"configs/picodet/picodet_s_300_custom.yml\"\n",
    "weight_path = r\"..\\ssdlite_models\\before_convert\\best_model.pdparams\"\n",
    "weight_path = r\"..\\ssd_models\\before_convert\\best_model.pdparams\"\n",
    "weight_path = r\"output/picodet_s_300_custom/best_model.pdparams\"\n",
    "!python tools/export_model.py -c $config_yml -o weights=$weight_path"
   ]
  },
  {
   "cell_type": "code",
   "execution_count": null,
   "metadata": {},
   "outputs": [],
   "source": [
    "act_yml = \"ssdlite_qat.yml\"\n",
    "!python deploy/auto_compression/run.py --config_path=$act_yml --save_dir='./output/ssd_lite_qat_distilled'  "
   ]
  },
  {
   "cell_type": "code",
   "execution_count": null,
   "metadata": {},
   "outputs": [],
   "source": []
  },
  {
   "cell_type": "markdown",
   "source": [
    "# Test"
   ],
   "metadata": {
    "collapsed": false
   }
  },
  {
   "cell_type": "code",
   "execution_count": 4,
   "outputs": [],
   "source": [
    "import numpy as np\n",
    "picodet_weight = np.fromfile(r\"F:\\CICC\\env\\PaddleDetection\\output\\picodet_s_288_custom_trained_input-fp32\\model_final.pdparams\")\n",
    "ssd_weight = np.fromfile(r\"F:\\CICC\\env\\ssd_models\\after_convert\\ssd_mobilenet_v1_custom\\model.pdiparams\")"
   ],
   "metadata": {
    "collapsed": false
   }
  },
  {
   "cell_type": "code",
   "execution_count": 11,
   "outputs": [],
   "source": [
    "import paddle\n",
    "paddle.enable_static()\n",
    "exe = paddle.static.Executor(paddle.CPUPlace())\n",
    "[inference_program, feed_target_names, fetch_targets] = (paddle.static.load_inference_model(r\"F:\\CICC\\env\\picodet_models\\after_convert\\picodet_s_300_custom_fp-norm\\model\", exe))"
   ],
   "metadata": {
    "collapsed": false
   }
  },
  {
   "cell_type": "markdown",
   "source": [
    "# View Sensitivity Data\n"
   ],
   "metadata": {
    "collapsed": false
   }
  },
  {
   "cell_type": "code",
   "execution_count": 13,
   "outputs": [],
   "source": [
    "import pickle\n",
    "data = pickle.load(open(\"sensitivity_0.data\", \"rb\"))"
   ],
   "metadata": {
    "collapsed": false
   }
  }
 ],
 "metadata": {
  "kernelspec": {
   "display_name": "venv",
   "language": "python",
   "name": "python3"
  },
  "language_info": {
   "codemirror_mode": {
    "name": "ipython",
    "version": 3
   },
   "file_extension": ".py",
   "mimetype": "text/x-python",
   "name": "python",
   "nbconvert_exporter": "python",
   "pygments_lexer": "ipython3",
   "version": "3.9.13"
  },
  "orig_nbformat": 4
 },
 "nbformat": 4,
 "nbformat_minor": 2
}
