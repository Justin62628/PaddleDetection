{
 "cells": [
  {
   "attachments": {},
   "cell_type": "markdown",
   "metadata": {},
   "source": [
    "# Export model and infer"
   ]
  },
  {
   "cell_type": "code",
   "execution_count": 8,
   "metadata": {},
   "outputs": [],
   "source": [
    "control_yml = r'e:\\PaddlePaddle\\PaddleDetection\\configs\\ppyoloe\\ppyoloe_plus_crn_l_custom_disease.yml'\n",
    "# best_model_path = r'e:\\PaddlePaddle\\PaddleDetection\\output\\ppyoloe_plus_crn_l_custom_disease\\69.pdparams'\n",
    "best_model_path = r'e:\\PaddlePaddle\\PaddleDetection\\output\\ppyoloe_plus_crn_l_custom_disease_std_v2\\best_model.pdparams'\n",
    "inference_model = r\"e:\\PaddlePaddle\\PaddleDetection\\output_inference\\ppyoloe_plus_crn_l_custom_disease_std_v2\"\n"
   ]
  },
  {
   "cell_type": "code",
   "execution_count": 37,
   "metadata": {},
   "outputs": [
    {
     "name": "stdout",
     "output_type": "stream",
     "text": [
      "[05/09 10:15:34] ppdet.utils.checkpoint INFO: Finish loading model weights: e:\\PaddlePaddle\\PaddleDetection\\output\\ppyoloe_plus_crn_l_custom_disease\\best_model.pdparams\n",
      "[05/09 10:15:35] ppdet.engine INFO: Export inference config file to output_inference/ppyoloe_plus_crn_l_custom_disease_std_v2\\ppyoloe_plus_crn_l_custom_disease\\infer_cfg.yml\n",
      "[05/09 10:15:49] ppdet.engine INFO: Export model and saved in output_inference/ppyoloe_plus_crn_l_custom_disease_std_v2\\ppyoloe_plus_crn_l_custom_disease\n"
     ]
    }
   ],
   "source": [
    "# export model for paddle2onnx\n",
    "!python tools/export_model.py -c $control_yml -o weights=$best_model_path trt=True exclude_nms=True TestReader.inputs_def.image_shape=[3,512,512] "
   ]
  },
  {
   "cell_type": "code",
   "execution_count": 7,
   "metadata": {},
   "outputs": [
    {
     "name": "stdout",
     "output_type": "stream",
     "text": [
      "[05/09 11:25:36] ppdet.utils.checkpoint INFO: Finish loading model weights: e:\\PaddlePaddle\\PaddleDetection\\output\\ppyoloe_plus_crn_l_custom_disease\\best_model.pdparams\n",
      "[05/09 11:25:37] ppdet.engine INFO: Export inference config file to output_inference\\ppyoloe_plus_crn_l_custom_disease\\infer_cfg.yml\n",
      "[05/09 11:25:49] ppdet.engine INFO: Export model and saved in output_inference\\ppyoloe_plus_crn_l_custom_disease\n"
     ]
    }
   ],
   "source": [
    "# for inference\n",
    "!python tools/export_model.py -c $control_yml -o weights=$best_model_path TestReader.inputs_def.image_shape=[3,512,512]"
   ]
  },
  {
   "cell_type": "code",
   "execution_count": 13,
   "metadata": {},
   "outputs": [
    {
     "name": "stdout",
     "output_type": "stream",
     "text": [
      "[05/11 16:35:35] ppdet.utils.checkpoint INFO: Finish loading model weights: e:\\PaddlePaddle\\PaddleDetection\\output\\ppyoloe_plus_crn_l_custom_disease_std_v2\\best_model.pdparams\n",
      "[05/11 16:35:37] ppdet.engine INFO: Eval iter: 0\n",
      "[05/11 16:35:43] ppdet.engine INFO: Eval iter: 100\n",
      "[05/11 16:35:47] ppdet.metrics.metrics INFO: Accumulating evaluatation results...\n",
      "[05/11 16:35:48] ppdet.metrics.map_utils INFO: Per-category of VOC AP: \n",
      "+-----------+-------+---------------+-------+----------+-------+\n",
      "| category  | AP    | category      | AP    | category | AP    |\n",
      "+-----------+-------+---------------+-------+----------+-------+\n",
      "| LineCrack | 0.639 | AligatorCrack | 0.445 | Repair   | 0.428 |\n",
      "| Pothole   | 0.777 | None          | None  | None     | None  |\n",
      "+-----------+-------+---------------+-------+----------+-------+\n",
      "[05/11 16:35:48] ppdet.metrics.map_utils INFO: per-category PR curve has output to voc_pr_curve folder.\n",
      "[05/11 16:35:48] ppdet.metrics.metrics INFO: mAP(0.50, 11point) = 57.22%\n",
      "[05/11 16:35:48] ppdet.engine INFO: Total sample number: 168, average FPS: 14.700380845101733\n"
     ]
    },
    {
     "name": "stderr",
     "output_type": "stream",
     "text": [
      "W0511 16:35:33.096549 11884 gpu_resources.cc:61] Please NOTE: device: 0, GPU Compute Capability: 7.0, Driver API Version: 11.7, Runtime API Version: 11.6\n",
      "W0511 16:35:33.096549 11884 gpu_resources.cc:91] device: 0, cuDNN Version: 8.8.\n"
     ]
    }
   ],
   "source": [
    "# eval\n",
    "!python tools/eval.py -c $control_yml -o weights=$best_model_path TestReader.inputs_def.image_shape=[3,512,512] --classwise --match_metric iou"
   ]
  },
  {
   "attachments": {},
   "cell_type": "markdown",
   "metadata": {},
   "source": [
    "## generate images for inference"
   ]
  },
  {
   "cell_type": "code",
   "execution_count": 6,
   "metadata": {},
   "outputs": [],
   "source": [
    "import numpy as np\n",
    "import os\n",
    "import shutil\n",
    "import glob\n",
    "\n",
    "image_path = r'dataset\\disease\\images'\n",
    "test_path = r'dataset\\disease\\test_images'\n",
    "if os.path.exists(test_path):\n",
    "    shutil.rmtree(test_path)\n",
    "os.makedirs(test_path, exist_ok=True)\n",
    "imgs = glob.glob(os.path.join(image_path, '**', '*.jpg'), recursive=True)\n",
    "infer_imgs = np.random.choice(imgs, 10)\n",
    "for img in infer_imgs:\n",
    "    img_name = os.path.basename(img)\n",
    "    src_path = img\n",
    "    dst_path = os.path.join(test_path, img_name)\n",
    "    shutil.copy(src_path, dst_path)"
   ]
  },
  {
   "cell_type": "code",
   "execution_count": 7,
   "metadata": {},
   "outputs": [
    {
     "name": "stdout",
     "output_type": "stream",
     "text": [
      "[05/11 15:56:41] ppdet.utils.checkpoint INFO: Finish loading model weights: e:\\PaddlePaddle\\PaddleDetection\\output\\ppyoloe_plus_crn_l_custom_disease\\best_model.pdparams\n",
      "[05/11 15:56:41] train INFO: Found 10 inference images in total.\n",
      "[05/11 15:56:43] ppdet.engine INFO: Detection bbox results save in results\\1f916df280c7ca6834edf18765efa5e7.jpg\n",
      "[05/11 15:56:43] ppdet.engine INFO: Detection bbox results save in results\\83400ad14c1f89327a400ca0fee040e2.jpg\n",
      "[05/11 15:56:43] ppdet.engine INFO: Detection bbox results save in results\\c50c03cc8189f3a3de2090e0fc1173ad.jpg\n",
      "[05/11 15:56:43] ppdet.engine INFO: Detection bbox results save in results\\1f18c590fbaa1fc69dad2b5bc7acf926.jpg\n",
      "[05/11 15:56:43] ppdet.engine INFO: Detection bbox results save in results\\f9b947295d2b8e4df5e264a2cf2432a5.jpg\n",
      "[05/11 15:56:43] ppdet.engine INFO: Detection bbox results save in results\\9feb254435a17742c3068e44154473e3.jpg\n",
      "[05/11 15:56:43] ppdet.engine INFO: Detection bbox results save in results\\dd426c2765b2a1c55b2069d0e7ff45fd.jpg\n",
      "[05/11 15:56:43] ppdet.engine INFO: Detection bbox results save in results\\805d3bde1660856bb10da09af246e20a.jpg\n",
      "[05/11 15:56:43] ppdet.engine INFO: Detection bbox results save in results\\83d8d1c3f66b5fa4cbabade5281d1c01.jpg\n",
      "[05/11 15:56:44] ppdet.engine INFO: Detection bbox results save in results\\e5412a4fe909dd6aa7cb34cba5f9da86.jpg\n"
     ]
    },
    {
     "name": "stderr",
     "output_type": "stream",
     "text": [
      "W0511 15:56:38.948762 13920 gpu_resources.cc:61] Please NOTE: device: 0, GPU Compute Capability: 7.0, Driver API Version: 11.7, Runtime API Version: 11.6\n",
      "W0511 15:56:38.948762 13920 gpu_resources.cc:91] device: 0, cuDNN Version: 8.8.\n",
      "\n",
      "  0%|          | 0/10 [00:00<?, ?it/s]\n",
      " 10%|█         | 1/10 [00:01<00:15,  1.72s/it]\n",
      " 40%|████      | 4/10 [00:01<00:02,  2.75it/s]\n",
      " 70%|███████   | 7/10 [00:02<00:00,  5.17it/s]\n",
      "100%|██████████| 10/10 [00:02<00:00,  7.84it/s]\n",
      "100%|██████████| 10/10 [00:02<00:00,  4.71it/s]\n"
     ]
    }
   ],
   "source": [
    "import os\n",
    "if os.path.exists(\"results\"):\n",
    "    shutil.rmtree(\"results\")\n",
    "!python tools/infer.py -c $control_yml -o weights=$best_model_path --infer_dir=$test_path --output_dir=results"
   ]
  },
  {
   "attachments": {},
   "cell_type": "markdown",
   "metadata": {},
   "source": [
    "# TRT"
   ]
  },
  {
   "attachments": {},
   "cell_type": "markdown",
   "metadata": {},
   "source": [
    "## Paddle Inference"
   ]
  },
  {
   "cell_type": "code",
   "execution_count": 9,
   "metadata": {},
   "outputs": [
    {
     "name": "stdout",
     "output_type": "stream",
     "text": [
      "-----------  Running Arguments -----------\n",
      "action_file: None\n",
      "batch_size: 1\n",
      "camera_id: -1\n",
      "combine_method: nms\n",
      "cpu_threads: 1\n",
      "device: CPU\n",
      "enable_mkldnn: False\n",
      "enable_mkldnn_bfloat16: False\n",
      "image_dir: dataset\\disease\\test_images\n",
      "image_file: None\n",
      "match_metric: ios\n",
      "match_threshold: 0.6\n",
      "model_dir: e:\\PaddlePaddle\\PaddleDetection\\output_inference\\ppyoloe_plus_crn_l_custom_disease_std_v2\n",
      "output_dir: results\n",
      "overlap_ratio: [0.25, 0.25]\n",
      "random_pad: False\n",
      "reid_batch_size: 50\n",
      "reid_model_dir: None\n",
      "run_benchmark: False\n",
      "run_mode: paddle\n",
      "save_images: True\n",
      "save_mot_txt_per_img: False\n",
      "save_mot_txts: False\n",
      "save_results: False\n",
      "scaled: False\n",
      "slice_infer: False\n",
      "slice_size: [640, 640]\n",
      "threshold: 0.5\n",
      "tracker_config: None\n",
      "trt_calib_mode: False\n",
      "trt_max_shape: 1280\n",
      "trt_min_shape: 1\n",
      "trt_opt_shape: 640\n",
      "use_coco_category: False\n",
      "use_dark: True\n",
      "use_gpu: False\n",
      "video_file: None\n",
      "window_size: 50\n",
      "------------------------------------------\n",
      "-----------  Model Configuration -----------\n",
      "Model Arch: YOLO\n",
      "Transform Order: \n",
      "--transform op: Resize\n",
      "--transform op: NormalizeImage\n",
      "--transform op: Permute\n",
      "--------------------------------------------\n",
      "Found 10 inference images in total.\n",
      "class_id:1, confidence:0.6686, left_top:[24.67,346.83],right_bottom:[711.11,839.61]\n",
      "save result to: results\\0ff4c8e2cd61e55c388226691afd9f0c.jpg\n",
      "Test iter 0\n",
      "class_id:3, confidence:0.9319, left_top:[75.97,111.30],right_bottom:[385.76,278.91]\n",
      "save result to: results\\dcd6a695cdc5a070818ffb5b880dfdf8.jpg\n",
      "Test iter 1\n",
      "class_id:1, confidence:0.6053, left_top:[305.83,109.73],right_bottom:[595.96,839.94]\n",
      "save result to: results\\69d53bf42e793316f88d1b8a814a62e5.jpg\n",
      "Test iter 2\n",
      "class_id:3, confidence:0.7800, left_top:[1029.51,2656.57],right_bottom:[3074.62,4165.80]\n",
      "save result to: results\\50018e818ff9c386838e3ac7601154c3.jpg\n",
      "Test iter 3\n",
      "save result to: results\\e25f1e5967e17b0d84cc717aec9e051c.jpg\n",
      "Test iter 4\n",
      "class_id:3, confidence:0.5751, left_top:[551.12,480.80],right_bottom:[690.39,569.57]\n",
      "save result to: results\\8c3ebbb5456d2ca3bb127e1340e2359d.jpg\n",
      "Test iter 5\n",
      "class_id:0, confidence:0.6503, left_top:[674.86,3.29],right_bottom:[846.30,956.64]\n",
      "save result to: results\\866fb2182b660dec9d12a892d2f791d1.jpg\n",
      "Test iter 6\n",
      "save result to: results\\bd8fc5ae4f0e7c4b109d02a204eae3bc.jpg\n",
      "Test iter 7\n",
      "class_id:2, confidence:0.7259, left_top:[472.85,291.73],right_bottom:[960.47,442.57]\n",
      "class_id:3, confidence:0.6454, left_top:[735.56,521.13],right_bottom:[1041.70,720.70]\n",
      "save result to: results\\820df263af5f073b414946f51a0169b7.jpg\n",
      "Test iter 8\n",
      "class_id:0, confidence:0.8820, left_top:[206.40,343.23],right_bottom:[1793.93,963.47]\n",
      "save result to: results\\9426ae6229bddd25a4c231a8547d7743.jpg\n",
      "Test iter 9\n",
      "------------------ Inference Time Info ----------------------\n",
      "total_time(ms): 14187.900000000001, img_num: 10\n",
      "average latency time(ms): 1418.79, QPS: 0.704826\n",
      "preprocess_time(ms): 67.30, inference_time(ms): 1351.50, postprocess_time(ms): 0.00\n"
     ]
    },
    {
     "name": "stderr",
     "output_type": "stream",
     "text": [
      "e:\\PaddlePaddle\\PaddleDetection\\deploy\\python\\visualize.py:162: DeprecationWarning: textsize is deprecated and will be removed in Pillow 10 (2023-07-01). Use textbbox or textlength instead.\n",
      "  tw, th = draw.textsize(text)\n",
      "e:\\PaddlePaddle\\PaddleDetection\\deploy\\python\\visualize.py:162: DeprecationWarning: textsize is deprecated and will be removed in Pillow 10 (2023-07-01). Use textbbox or textlength instead.\n",
      "  tw, th = draw.textsize(text)\n",
      "e:\\PaddlePaddle\\PaddleDetection\\deploy\\python\\visualize.py:162: DeprecationWarning: textsize is deprecated and will be removed in Pillow 10 (2023-07-01). Use textbbox or textlength instead.\n",
      "  tw, th = draw.textsize(text)\n",
      "e:\\PaddlePaddle\\PaddleDetection\\deploy\\python\\visualize.py:162: DeprecationWarning: textsize is deprecated and will be removed in Pillow 10 (2023-07-01). Use textbbox or textlength instead.\n",
      "  tw, th = draw.textsize(text)\n",
      "e:\\PaddlePaddle\\PaddleDetection\\deploy\\python\\visualize.py:162: DeprecationWarning: textsize is deprecated and will be removed in Pillow 10 (2023-07-01). Use textbbox or textlength instead.\n",
      "  tw, th = draw.textsize(text)\n",
      "e:\\PaddlePaddle\\PaddleDetection\\deploy\\python\\visualize.py:162: DeprecationWarning: textsize is deprecated and will be removed in Pillow 10 (2023-07-01). Use textbbox or textlength instead.\n",
      "  tw, th = draw.textsize(text)\n",
      "e:\\PaddlePaddle\\PaddleDetection\\deploy\\python\\visualize.py:162: DeprecationWarning: textsize is deprecated and will be removed in Pillow 10 (2023-07-01). Use textbbox or textlength instead.\n",
      "  tw, th = draw.textsize(text)\n",
      "e:\\PaddlePaddle\\PaddleDetection\\deploy\\python\\visualize.py:162: DeprecationWarning: textsize is deprecated and will be removed in Pillow 10 (2023-07-01). Use textbbox or textlength instead.\n",
      "  tw, th = draw.textsize(text)\n",
      "e:\\PaddlePaddle\\PaddleDetection\\deploy\\python\\visualize.py:162: DeprecationWarning: textsize is deprecated and will be removed in Pillow 10 (2023-07-01). Use textbbox or textlength instead.\n",
      "  tw, th = draw.textsize(text)\n"
     ]
    }
   ],
   "source": [
    "# !python deploy/python/infer.py --model_dir=$inference_model --image_dir=$test_path --device=GPU --run_mode=trt_fp16 --output_dir=results_trt\n",
    "if os.path.exists(\"results\"):\n",
    "    shutil.rmtree(\"results\")\n",
    "!python deploy/python/infer.py --model_dir=$inference_model --image_dir=$test_path --device=CPU --output_dir=results"
   ]
  },
  {
   "attachments": {},
   "cell_type": "markdown",
   "metadata": {},
   "source": [
    "# ONNX"
   ]
  },
  {
   "cell_type": "code",
   "execution_count": 38,
   "metadata": {},
   "outputs": [
    {
     "name": "stdout",
     "output_type": "stream",
     "text": [
      "\u001b[1;31;40m2023-05-09 10:16:55 [WARNING]\t[Deprecated] The flag `--input_shape_dict` is deprecated, if you need to modify the input shape of PaddlePaddle model, please refer to this tool https://github.com/jiangjiajun/PaddleUtils/tree/main/paddle \u001b[0m\n",
      "[Paddle2ONNX] Start to parse PaddlePaddle model...\n",
      "[Paddle2ONNX] Model file path: output_inference/ppyoloe_plus_crn_l_custom_disease_std_v2\\model.pdmodel\n",
      "[Paddle2ONNX] Paramters file path: output_inference/ppyoloe_plus_crn_l_custom_disease_std_v2\\model.pdiparams\n",
      "[Paddle2ONNX] Start to parsing Paddle model...\n",
      "[Paddle2ONNX] [nearest_interp_v2: nearest_interp_v2_0.tmp_0] Requires the minimal opset version of 11.\n",
      "[Paddle2ONNX] [nearest_interp_v2: nearest_interp_v2_1.tmp_0] Requires the minimal opset version of 11.\n",
      "[Paddle2ONNX] Due to the operator: nearest_interp_v2, requires opset_version >= 11.\n",
      "[Paddle2ONNX] Opset version will change to 11 from 9\n",
      "[Paddle2ONNX] Use opset_version = 11 for ONNX export.\n",
      "[Paddle2ONNX] PaddlePaddle model is exported as ONNX format now.\n",
      "2023-05-09 10:17:00 [INFO]\t===============Make PaddlePaddle Better!================\n",
      "2023-05-09 10:17:00 [INFO]\tA little survey: https://iwenjuan.baidu.com/?code=r8hu2s\n"
     ]
    }
   ],
   "source": [
    "# Export\n",
    "!paddle2onnx --model_dir output_inference/ppyoloe_plus_crn_l_custom_disease_std_v2 --model_filename model.pdmodel --params_filename model.pdiparams --save_file onnx_model/ppyoloe_plus_crn_l_custom_disease_std_v2.onnx --input_shape_dict \"{'image':[1, 3, 512, 512], 'scale_factor': [1, 2]}\""
   ]
  },
  {
   "cell_type": "code",
   "execution_count": 41,
   "metadata": {},
   "outputs": [
    {
     "name": "stdout",
     "output_type": "stream",
     "text": [
      "finished\n",
      "^C\n"
     ]
    }
   ],
   "source": [
    "import onnx\n",
    "import onnxsim\n",
    "import numpy as np\n",
    "import onnx_graphsurgeon as gs\n",
    "from onnx import shape_inference\n",
    "from collections import OrderedDict\n",
    "import os\n",
    "\n",
    "# 注意修改\n",
    "########################################################\n",
    "INPUT_PATH = './onnx_model/ppyoloe_plus_crn_l_custom_disease_std_v2.onnx'\n",
    "WEIGHTS_TYPE = \"l\"\n",
    "SAVE_PATH = './onnx_nms_model/ppyoloe_plus_crn_l_custom_disease_std_v2_nms.onnx'\n",
    "CLASS_NUM = 4\n",
    "SCORE_THRESHOLD = 0.25\n",
    "IOU_THRESHOLD = 0.45\n",
    "########################################################\n",
    "\n",
    "Mul_name = 'Mul_244'\n",
    "Mul_linear = 5376\n",
    "\n",
    "gs_graph = gs.import_onnx(onnx.load(INPUT_PATH))\n",
    "# fold constants\n",
    "gs_graph.fold_constants()\n",
    "gs_graph.cleanup().toposort()\n",
    "\n",
    "\n",
    "Mul = [node for node in gs_graph.nodes if node.name=='p2o.Mul.244'][0]\n",
    "Concat_14 = [node for node in gs_graph.nodes if node.name=='p2o.Concat.28'][0]\n",
    "\n",
    "scores = gs.Variable(name='scores',shape=[1,Mul_linear,CLASS_NUM],dtype=np.float32)\n",
    "Transpose = gs.Node(name='lastTranspose',op='Transpose',\n",
    "                   inputs=[Concat_14.outputs[0]],\n",
    "                   outputs=[scores],\n",
    "                   attrs=OrderedDict(perm=[0,2,1]))\n",
    "gs_graph.nodes.append(Transpose)\n",
    "\n",
    "Mul.outputs[0].name = 'boxes'\n",
    "gs_graph.inputs = [gs_graph.inputs[0]]\n",
    "gs_graph.outputs = [Mul.outputs[0],scores]\n",
    "gs_graph.outputs[0].dtype=np.float32\n",
    "gs_graph.outputs[1].dtype=np.float32\n",
    "\n",
    "gs_graph.cleanup().toposort()\n",
    "onnx_graph = shape_inference.infer_shapes(gs.export_onnx(gs_graph))\n",
    "onnx_graph, check = onnxsim.simplify(onnx_graph)\n",
    "\n",
    "gs_graph = gs.import_onnx(onnx_graph)\n",
    "op_inputs = gs_graph.outputs\n",
    "op = \"EfficientNMS_TRT\"\n",
    "attrs = {\n",
    "    \"plugin_version\": \"1\",\n",
    "    \"background_class\": -1,\n",
    "    \"max_output_boxes\": 100,\n",
    "    \"score_threshold\": SCORE_THRESHOLD,\n",
    "    \"iou_threshold\": IOU_THRESHOLD,\n",
    "    \"score_activation\": False,\n",
    "    \"box_coding\": 0,\n",
    "}\n",
    "\n",
    "output_num_detections = gs.Variable(\n",
    "    name=\"num_dets\",\n",
    "    dtype=np.int32,\n",
    "    shape=[1, 1],\n",
    ")\n",
    "output_boxes = gs.Variable(\n",
    "    name=\"det_boxes\",\n",
    "    dtype=np.float32,\n",
    "    shape=[1, 100, 4],\n",
    ")\n",
    "output_scores = gs.Variable(\n",
    "    name=\"det_scores\",\n",
    "    dtype=np.float32,\n",
    "    shape=[1, 100],\n",
    ")\n",
    "output_labels = gs.Variable(\n",
    "    name=\"det_classes\",\n",
    "    dtype=np.int32,\n",
    "    shape=[1, 100],\n",
    ")\n",
    "op_outputs = [\n",
    "    output_num_detections, output_boxes, output_scores, output_labels\n",
    "]\n",
    "\n",
    "TRT = gs.Node(op=op,name=\"batched_nms\",inputs=op_inputs,outputs=op_outputs,attrs=attrs)\n",
    "gs_graph.nodes.append(TRT)\n",
    "gs_graph.outputs = op_outputs\n",
    "gs_graph.cleanup().toposort()\n",
    "\n",
    "onnx.save(gs.export_onnx(gs_graph),SAVE_PATH)\n",
    "print(\"finished\")\n"
   ]
  },
  {
   "attachments": {},
   "cell_type": "markdown",
   "metadata": {},
   "source": [
    "```bash\n",
    "trtexec.exe --onnx=e:\\PaddlePaddle\\PaddleDetection\\onnx_nms_model\\ppyoloe_plus_crn_l_custom_disease_std_nms.onnx --saveEngine=e:\\PaddlePaddle\\PaddleDetection\\onnx_nms_model\\ppyoloe_plus_crn_l_custom_disease_std_nms.engine --fp16\n",
    "```"
   ]
  },
  {
   "attachments": {},
   "cell_type": "markdown",
   "metadata": {},
   "source": [
    "# get engine and Inference"
   ]
  },
  {
   "cell_type": "code",
   "execution_count": 48,
   "metadata": {},
   "outputs": [
    {
     "name": "stderr",
     "output_type": "stream",
     "text": [
      "C:\\Users\\Administrator\\AppData\\Local\\Temp\\ipykernel_8232\\98667936.py:21: DeprecationWarning: Use get_tensor_shape instead.\n",
      "  size = trt.volume(engine.get_binding_shape(binding))\n",
      "C:\\Users\\Administrator\\AppData\\Local\\Temp\\ipykernel_8232\\98667936.py:22: DeprecationWarning: Use get_tensor_dtype instead.\n",
      "  dtype = trt.nptype(engine.get_binding_dtype(binding))\n",
      "C:\\Users\\Administrator\\AppData\\Local\\Temp\\ipykernel_8232\\98667936.py:26: DeprecationWarning: Use get_tensor_mode instead.\n",
      "  if engine.binding_is_input(binding):\n"
     ]
    },
    {
     "data": {
      "text/plain": [
       "True"
      ]
     },
     "execution_count": 48,
     "metadata": {},
     "output_type": "execute_result"
    }
   ],
   "source": [
    "import tensorrt as trt\n",
    "import pycuda.autoinit\n",
    "import pycuda.driver as cuda\n",
    "import numpy as np\n",
    "import cv2\n",
    "import time\n",
    "\n",
    "class BaseEngine(object):\n",
    "    def __init__(self, engine_path, imgsz=(480,480)):\n",
    "        self.imgsz = imgsz\n",
    "        logger = trt.Logger(trt.Logger.WARNING)\n",
    "        runtime = trt.Runtime(logger)\n",
    "        trt.init_libnvinfer_plugins(logger, namespace=\"\")\n",
    "        with open(engine_path, \"rb\") as f:\n",
    "            serialized_engine = f.read()\n",
    "        engine = runtime.deserialize_cuda_engine(serialized_engine)\n",
    "        self.context = engine.create_execution_context()\n",
    "        self.inputs, self.outputs, self.bindings = [], [], []\n",
    "        self.stream = cuda.Stream()\n",
    "        for binding in engine:\n",
    "            size = trt.volume(engine.get_binding_shape(binding))\n",
    "            dtype = trt.nptype(engine.get_binding_dtype(binding))\n",
    "            host_mem = cuda.pagelocked_empty(size, dtype)\n",
    "            device_mem = cuda.mem_alloc(host_mem.nbytes)\n",
    "            self.bindings.append(int(device_mem))\n",
    "            if engine.binding_is_input(binding):\n",
    "                self.inputs.append({'host': host_mem, 'device': device_mem})\n",
    "            else:\n",
    "                self.outputs.append({'host': host_mem, 'device': device_mem})        \n",
    "\n",
    "    def predict(self, img,threshold):\n",
    "        self.img = self.preprocess(img)\n",
    "        self.inputs[0]['host'] = np.ravel(self.img)\n",
    "        # transfer data to the gpu\n",
    "        for inp in self.inputs:\n",
    "            cuda.memcpy_htod_async(inp['device'], inp['host'], self.stream)\n",
    "        # run inference\n",
    "        self.context.execute_async_v2(\n",
    "            bindings=self.bindings,\n",
    "            stream_handle=self.stream.handle)\n",
    "        # fetch outputs from gpu\n",
    "        for out in self.outputs:\n",
    "            cuda.memcpy_dtoh_async(out['host'], out['device'], self.stream)\n",
    "        # synchronize stream\n",
    "        self.stream.synchronize()\n",
    "\n",
    "        data = [out['host'] for out in self.outputs]\n",
    "        results = self.postprocess(data,threshold)\n",
    "        return results\n",
    "\n",
    "    def letterbox(self,im,color=(114, 114, 114), auto=False, scaleup=True, stride=32):\n",
    "        # Resize and pad image while meeting stride-multiple constraints\n",
    "        shape = im.shape[:2]  # current shape [height, width]\n",
    "        new_shape = self.imgsz\n",
    "        if isinstance(new_shape, int):\n",
    "            new_shape = (new_shape, new_shape)\n",
    "        # Scale ratio (new / old)\n",
    "        self.r = min(new_shape[0] / shape[0], new_shape[1] / shape[1])\n",
    "        if not scaleup:  # only scale down, do not scale up (for better val mAP)\n",
    "            self.r = min(self.r, 1.0)\n",
    "        # Compute padding\n",
    "        new_unpad = int(round(shape[1] * self.r)), int(round(shape[0] * self.r))\n",
    "        self.dw, self.dh = new_shape[1] - new_unpad[0], new_shape[0] - new_unpad[1]  # wh padding\n",
    "        if auto:  # minimum rectangle\n",
    "            self.dw, self.dh = np.mod(self.dw, stride), np.mod(self.dh, stride)  # wh padding\n",
    "        self.dw /= 2  # divide padding into 2 sides\n",
    "        self.dh /= 2\n",
    "        if shape[::-1] != new_unpad:  # resize\n",
    "            im = cv2.resize(im, new_unpad, interpolation=cv2.INTER_LINEAR)\n",
    "        top, bottom = int(round(self.dh - 0.1)), int(round(self.dh + 0.1))\n",
    "        left, right = int(round(self.dw - 0.1)), int(round(self.dw + 0.1))\n",
    "        self.img = cv2.copyMakeBorder(im, top, bottom, left, right, cv2.BORDER_CONSTANT, value=color)  # add border\n",
    "        return self.img,self.r,self.dw,self.dh\n",
    "\n",
    "    def preprocess(self,image):\n",
    "        self.img,self.r,self.dw,self.dh = self.letterbox(image)\n",
    "        self.img = cv2.cvtColor(self.img,cv2.COLOR_BGR2RGB)\n",
    "        self.img = self.img.astype(np.float32)\n",
    "        self.img = self.img / 255.\n",
    "        self.img -= np.array([0.485, 0.456, 0.406])[None, None, :]\n",
    "        self.img /= np.array([0.229, 0.224, 0.225])[None, None, :]\n",
    "        self.img = self.img.transpose((2, 0, 1))\n",
    "        self.img = np.expand_dims(self.img,0)\n",
    "        return self.img\n",
    "\n",
    "    def postprocess(self,pred,threshold):\n",
    "        new_bboxes = []\n",
    "        num =int(pred[0][0])\n",
    "        bboxes = pred[1].reshape(-1,4)\n",
    "        scores = pred[2]\n",
    "        clas = pred[3]\n",
    "        for i in range(num):\n",
    "            if(scores[i] < threshold):\n",
    "                continue\n",
    "            xmin = (bboxes[i][0] - self.dw)/self.r\n",
    "            ymin = (bboxes[i][1] - self.dh)/self.r\n",
    "            xmax = (bboxes[i][2] - self.dw)/self.r\n",
    "            ymax = (bboxes[i][3] - self.dh)/self.r\n",
    "            new_bboxes.append([clas[i],scores[i],xmin,ymin,xmax,ymax])\n",
    "        return new_bboxes\n",
    "\n",
    "\n",
    "def visualize(img,bbox_array):\n",
    "    cc_map = {0:(\"LineCrack\", (255,np.random.randint(0,255),np.random.randint(0,255))),\n",
    "              1:(\"AligatorCrack\", (255,np.random.randint(0,255),np.random.randint(0,255))),\n",
    "              2:(\"Repair\", (255,np.random.randint(0,255),np.random.randint(0,255))),\n",
    "              3:(\"Pothole\", (255,np.random.randint(0,255),np.random.randint(0,255)))}\n",
    "    for temp in bbox_array:\n",
    "        xmin = int(temp[2])\n",
    "        ymin = int(temp[3])\n",
    "        xmax = int(temp[4])\n",
    "        ymax = int(temp[5])\n",
    "        clas = int(temp[0])\n",
    "        score = temp[1]\n",
    "\n",
    "        \"\"\"\n",
    "        LineCrack\n",
    "        AligatorCrack\n",
    "        Repair\n",
    "        Pothole\n",
    "\n",
    "        \"\"\"\n",
    "        clas, color = cc_map[clas]\n",
    "        cv2.rectangle(img,(xmin,ymin),(xmax,ymax), color, 2)\n",
    "        img = cv2.putText(img, \"class:\"+str(clas)+\" \"+str(round(score,2)), (xmin,int(ymin)+20), cv2.FONT_HERSHEY_SIMPLEX, 0.5, color, 1)\n",
    "    return img\n",
    "\n",
    "trt_engine = BaseEngine(\"onnx_nms_model/ppyoloe_plus_crn_l_custom_disease_std_v2_nms.engine\", imgsz=(512,512))\n",
    "img1 = cv2.imread(r\"dataset\\rdd\\test_images\\China_Drone_000621.jpg\")\n",
    "results = trt_engine.predict(img1,threshold=0.3)\n",
    "img = visualize(img1,results)\n",
    "\n",
    "cv2.imwrite(\"results_trt/China_Drone_000621.jpg\",img)"
   ]
  },
  {
   "attachments": {},
   "cell_type": "markdown",
   "metadata": {},
   "source": [
    "## Speed Test"
   ]
  },
  {
   "cell_type": "code",
   "execution_count": 49,
   "metadata": {},
   "outputs": [
    {
     "name": "stdout",
     "output_type": "stream",
     "text": [
      "20.1 ms ± 345 µs per loop (mean ± std. dev. of 7 runs, 100 loops each)\n"
     ]
    }
   ],
   "source": [
    "%timeit trt_engine.predict(img1,threshold=0.5)"
   ]
  },
  {
   "attachments": {},
   "cell_type": "markdown",
   "metadata": {},
   "source": [
    "## formal inference"
   ]
  },
  {
   "cell_type": "code",
   "execution_count": 55,
   "metadata": {},
   "outputs": [
    {
     "name": "stderr",
     "output_type": "stream",
     "text": [
      "C:\\Users\\Administrator\\AppData\\Local\\Temp\\ipykernel_8232\\98667936.py:21: DeprecationWarning: Use get_tensor_shape instead.\n",
      "  size = trt.volume(engine.get_binding_shape(binding))\n",
      "C:\\Users\\Administrator\\AppData\\Local\\Temp\\ipykernel_8232\\98667936.py:22: DeprecationWarning: Use get_tensor_dtype instead.\n",
      "  dtype = trt.nptype(engine.get_binding_dtype(binding))\n",
      "C:\\Users\\Administrator\\AppData\\Local\\Temp\\ipykernel_8232\\98667936.py:26: DeprecationWarning: Use get_tensor_mode instead.\n",
      "  if engine.binding_is_input(binding):\n"
     ]
    }
   ],
   "source": [
    "if os.path.exists(\"results_trt\"):\n",
    "    shutil.rmtree(\"results_trt\")\n",
    "os.makedirs(\"results_trt\", exist_ok=True)\n",
    "trt_engine = BaseEngine(\"onnx_nms_model/ppyoloe_plus_crn_l_custom_disease_std_v2_nms.engine\", imgsz=(512,512))\n",
    "for img in glob.glob(f\"{test_path}/*.jpg\"):\n",
    "    img1 = cv2.imread(img)\n",
    "    results = trt_engine.predict(img1,threshold=0.4)\n",
    "    img1 = visualize(img1,results)\n",
    "    cv2.imwrite(\"results_trt/\"+os.path.basename(img),img1)"
   ]
  }
 ],
 "metadata": {
  "kernelspec": {
   "display_name": "venv",
   "language": "python",
   "name": "python3"
  },
  "language_info": {
   "codemirror_mode": {
    "name": "ipython",
    "version": 3
   },
   "file_extension": ".py",
   "mimetype": "text/x-python",
   "name": "python",
   "nbconvert_exporter": "python",
   "pygments_lexer": "ipython3",
   "version": "3.9.13"
  },
  "orig_nbformat": 4
 },
 "nbformat": 4,
 "nbformat_minor": 2
}
